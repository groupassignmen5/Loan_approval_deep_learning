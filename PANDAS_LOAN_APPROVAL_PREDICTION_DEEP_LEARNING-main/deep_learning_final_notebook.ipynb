{
  "cells": [
    {
      "cell_type": "markdown",
      "metadata": {
        "id": "jfo9HtLbbgqJ"
      },
      "source": [
        "<a id='feature-correlation'></a>\n",
        "<font size=\"+7\" color='#780404'><b> Loan Approval Prediction by team Pandas</b></font>  "
      ]
    },
    {
      "cell_type": "markdown",
      "source": [
        "# New section"
      ],
      "metadata": {
        "id": "092UQO-b_W9R"
      }
    },
    {
      "cell_type": "markdown",
      "metadata": {
        "id": "ayWUO2yWbgqL"
      },
      "source": [
        "<center><img src =\"https://miro.medium.com/v2/resize:fit:4800/format:webp/1*1BWK7tvR6_UZwcmaCQWvBQ.jpeg\" width = \"750\" height = '500'/>"
      ]
    },
    {
      "cell_type": "markdown",
      "metadata": {
        "id": "6pEOY5yAbgqL"
      },
      "source": [
        "<a id='feature-correlation'></a>\n",
        "<font size=\"+5\" color='#780404'><b> Importing Libraries</b></font>  "
      ]
    },
    {
      "cell_type": "code",
      "source": [],
      "metadata": {
        "id": "Vqfh7xHbqG7f"
      },
      "execution_count": null,
      "outputs": []
    },
    {
      "cell_type": "code",
      "execution_count": 98,
      "metadata": {
        "colab": {
          "base_uri": "https://localhost:8080/"
        },
        "id": "XuUYpTumbgqM",
        "outputId": "0bff10a0-1a68-4d67-bc8d-fc4ac2fedde3"
      },
      "outputs": [
        {
          "output_type": "stream",
          "name": "stdout",
          "text": [
            "Requirement already satisfied: pandas in /usr/local/lib/python3.10/dist-packages (1.5.3)\n",
            "Requirement already satisfied: python-dateutil>=2.8.1 in /usr/local/lib/python3.10/dist-packages (from pandas) (2.8.2)\n",
            "Requirement already satisfied: pytz>=2020.1 in /usr/local/lib/python3.10/dist-packages (from pandas) (2023.3)\n",
            "Requirement already satisfied: numpy>=1.21.0 in /usr/local/lib/python3.10/dist-packages (from pandas) (1.23.5)\n",
            "Requirement already satisfied: six>=1.5 in /usr/local/lib/python3.10/dist-packages (from python-dateutil>=2.8.1->pandas) (1.16.0)\n"
          ]
        }
      ],
      "source": [
        "pip install pandas"
      ]
    },
    {
      "cell_type": "code",
      "execution_count": 99,
      "metadata": {
        "colab": {
          "base_uri": "https://localhost:8080/"
        },
        "id": "CwS4hjw8bgqN",
        "outputId": "614b833f-fc87-42f0-b2ec-042fe58d4e2b"
      },
      "outputs": [
        {
          "output_type": "stream",
          "name": "stdout",
          "text": [
            "Requirement already satisfied: matplotlib in /usr/local/lib/python3.10/dist-packages (3.7.1)\n",
            "Requirement already satisfied: contourpy>=1.0.1 in /usr/local/lib/python3.10/dist-packages (from matplotlib) (1.1.0)\n",
            "Requirement already satisfied: cycler>=0.10 in /usr/local/lib/python3.10/dist-packages (from matplotlib) (0.11.0)\n",
            "Requirement already satisfied: fonttools>=4.22.0 in /usr/local/lib/python3.10/dist-packages (from matplotlib) (4.42.0)\n",
            "Requirement already satisfied: kiwisolver>=1.0.1 in /usr/local/lib/python3.10/dist-packages (from matplotlib) (1.4.4)\n",
            "Requirement already satisfied: numpy>=1.20 in /usr/local/lib/python3.10/dist-packages (from matplotlib) (1.23.5)\n",
            "Requirement already satisfied: packaging>=20.0 in /usr/local/lib/python3.10/dist-packages (from matplotlib) (23.1)\n",
            "Requirement already satisfied: pillow>=6.2.0 in /usr/local/lib/python3.10/dist-packages (from matplotlib) (9.4.0)\n",
            "Requirement already satisfied: pyparsing>=2.3.1 in /usr/local/lib/python3.10/dist-packages (from matplotlib) (3.1.1)\n",
            "Requirement already satisfied: python-dateutil>=2.7 in /usr/local/lib/python3.10/dist-packages (from matplotlib) (2.8.2)\n",
            "Requirement already satisfied: six>=1.5 in /usr/local/lib/python3.10/dist-packages (from python-dateutil>=2.7->matplotlib) (1.16.0)\n"
          ]
        }
      ],
      "source": [
        "pip install matplotlib"
      ]
    },
    {
      "cell_type": "code",
      "execution_count": 100,
      "metadata": {
        "colab": {
          "base_uri": "https://localhost:8080/"
        },
        "id": "k_seiqP6bgqN",
        "outputId": "c491555d-855f-4e55-8699-ab962eb983ba"
      },
      "outputs": [
        {
          "output_type": "stream",
          "name": "stdout",
          "text": [
            "Requirement already satisfied: seaborn in /usr/local/lib/python3.10/dist-packages (0.12.2)\n",
            "Requirement already satisfied: numpy!=1.24.0,>=1.17 in /usr/local/lib/python3.10/dist-packages (from seaborn) (1.23.5)\n",
            "Requirement already satisfied: pandas>=0.25 in /usr/local/lib/python3.10/dist-packages (from seaborn) (1.5.3)\n",
            "Requirement already satisfied: matplotlib!=3.6.1,>=3.1 in /usr/local/lib/python3.10/dist-packages (from seaborn) (3.7.1)\n",
            "Requirement already satisfied: contourpy>=1.0.1 in /usr/local/lib/python3.10/dist-packages (from matplotlib!=3.6.1,>=3.1->seaborn) (1.1.0)\n",
            "Requirement already satisfied: cycler>=0.10 in /usr/local/lib/python3.10/dist-packages (from matplotlib!=3.6.1,>=3.1->seaborn) (0.11.0)\n",
            "Requirement already satisfied: fonttools>=4.22.0 in /usr/local/lib/python3.10/dist-packages (from matplotlib!=3.6.1,>=3.1->seaborn) (4.42.0)\n",
            "Requirement already satisfied: kiwisolver>=1.0.1 in /usr/local/lib/python3.10/dist-packages (from matplotlib!=3.6.1,>=3.1->seaborn) (1.4.4)\n",
            "Requirement already satisfied: packaging>=20.0 in /usr/local/lib/python3.10/dist-packages (from matplotlib!=3.6.1,>=3.1->seaborn) (23.1)\n",
            "Requirement already satisfied: pillow>=6.2.0 in /usr/local/lib/python3.10/dist-packages (from matplotlib!=3.6.1,>=3.1->seaborn) (9.4.0)\n",
            "Requirement already satisfied: pyparsing>=2.3.1 in /usr/local/lib/python3.10/dist-packages (from matplotlib!=3.6.1,>=3.1->seaborn) (3.1.1)\n",
            "Requirement already satisfied: python-dateutil>=2.7 in /usr/local/lib/python3.10/dist-packages (from matplotlib!=3.6.1,>=3.1->seaborn) (2.8.2)\n",
            "Requirement already satisfied: pytz>=2020.1 in /usr/local/lib/python3.10/dist-packages (from pandas>=0.25->seaborn) (2023.3)\n",
            "Requirement already satisfied: six>=1.5 in /usr/local/lib/python3.10/dist-packages (from python-dateutil>=2.7->matplotlib!=3.6.1,>=3.1->seaborn) (1.16.0)\n"
          ]
        }
      ],
      "source": [
        "pip install seaborn"
      ]
    },
    {
      "cell_type": "code",
      "execution_count": 101,
      "metadata": {
        "id": "yEGa9U_mbgqN"
      },
      "outputs": [],
      "source": [
        "import pandas as pd\n",
        "import matplotlib.pyplot as plt\n",
        "import seaborn as sns"
      ]
    },
    {
      "cell_type": "code",
      "execution_count": 102,
      "metadata": {
        "colab": {
          "base_uri": "https://localhost:8080/"
        },
        "id": "rY4bQbokbgqO",
        "outputId": "712b13fe-e63e-4064-a342-810080e0477e"
      },
      "outputs": [
        {
          "output_type": "stream",
          "name": "stdout",
          "text": [
            "Requirement already satisfied: plotly in /usr/local/lib/python3.10/dist-packages (5.15.0)\n",
            "Requirement already satisfied: tenacity>=6.2.0 in /usr/local/lib/python3.10/dist-packages (from plotly) (8.2.3)\n",
            "Requirement already satisfied: packaging in /usr/local/lib/python3.10/dist-packages (from plotly) (23.1)\n"
          ]
        }
      ],
      "source": [
        "pip install plotly"
      ]
    },
    {
      "cell_type": "code",
      "execution_count": 103,
      "metadata": {
        "colab": {
          "base_uri": "https://localhost:8080/"
        },
        "id": "kiXFxe-vbgqO",
        "outputId": "980c756f-2bc7-4d00-bc78-2b8d8728c43e"
      },
      "outputs": [
        {
          "output_type": "stream",
          "name": "stdout",
          "text": [
            "Requirement already satisfied: termcolor in /usr/local/lib/python3.10/dist-packages (2.3.0)\n"
          ]
        }
      ],
      "source": [
        "pip install termcolor"
      ]
    },
    {
      "cell_type": "code",
      "execution_count": 104,
      "metadata": {
        "colab": {
          "base_uri": "https://localhost:8080/"
        },
        "id": "D-My_oqGbgqO",
        "outputId": "5c9d785c-eaad-4a2f-8de1-6d034e941ece"
      },
      "outputs": [
        {
          "output_type": "stream",
          "name": "stdout",
          "text": [
            "Requirement already satisfied: sklearn in /usr/local/lib/python3.10/dist-packages (0.0.post7)\n"
          ]
        }
      ],
      "source": [
        "pip install sklearn"
      ]
    },
    {
      "cell_type": "code",
      "execution_count": 105,
      "metadata": {
        "id": "Kq61btSibgqO"
      },
      "outputs": [],
      "source": [
        "import pandas as pd\n",
        "import numpy as np\n",
        "import seaborn as sns\n",
        "import matplotlib.pyplot as plt\n",
        "%matplotlib inline\n",
        "import seaborn as sns\n",
        "import matplotlib.pyplot as plt\n",
        "from plotly.subplots import make_subplots\n",
        "import plotly.graph_objects as go\n",
        "plt.style.use('ggplot') #Applying style to graphs\n",
        "import termcolor #for customization of text\n",
        "from plotly.subplots import make_subplots\n",
        "import plotly.graph_objects as go\n",
        "# plt.style.use('ggplot') #Applying style to graphs\n",
        "# import termcolor #for customization of text\n",
        "# from sklearn.model_selection import train_test_split\n",
        "# from sklearn.svm import LinearSVC, SVC\n",
        "# from sklearn.ensemble import RandomForestClassifier, GradientBoostingClassifier\n",
        "# from sklearn.tree import DecisionTreeClassifier\n",
        "# from sklearn.linear_model import LogisticRegression\n",
        "# from sklearn.neighbors import KNeighborsClassifier\n",
        "# from sklearn.metrics import f1_score, precision_score, recall_score, accuracy_score, confusion_matrix, roc_auc_score\n",
        "# from imblearn.over_sampling import SMOTE\n",
        "# from sklearn.model_selection import train_test_split\n",
        "# from sklearn.ensemble import RandomForestClassifier"
      ]
    },
    {
      "cell_type": "markdown",
      "metadata": {
        "id": "N54tP3aAbgqP"
      },
      "source": [
        "<center><img src =\"https://i.stack.imgur.com/sGHia.png\" width = \"800\" height = '500' alt=\"unsplash.com\"/>"
      ]
    },
    {
      "cell_type": "markdown",
      "metadata": {
        "id": "g-__BfjZbgqP"
      },
      "source": [
        "<a id='feature-correlation'></a>\n",
        "<font size=\"+6\" color='#780404'><b> Loading Data</b></font>  "
      ]
    },
    {
      "cell_type": "code",
      "source": [
        "from google.colab import files\n",
        "files.upload()\n"
      ],
      "metadata": {
        "colab": {
          "base_uri": "https://localhost:8080/",
          "height": 56
        },
        "id": "UOOULvzj28j2",
        "outputId": "dd34d1fe-1b1c-4446-8c97-d814ba50eeb7"
      },
      "execution_count": null,
      "outputs": [
        {
          "data": {
            "text/html": [
              "\n",
              "     <input type=\"file\" id=\"files-561ce933-3ed8-4cee-978d-d3f06d3d3655\" name=\"files[]\" multiple disabled\n",
              "        style=\"border:none\" />\n",
              "     <output id=\"result-561ce933-3ed8-4cee-978d-d3f06d3d3655\">\n",
              "      Upload widget is only available when the cell has been executed in the\n",
              "      current browser session. Please rerun this cell to enable.\n",
              "      </output>\n",
              "      <script>// Copyright 2017 Google LLC\n",
              "//\n",
              "// Licensed under the Apache License, Version 2.0 (the \"License\");\n",
              "// you may not use this file except in compliance with the License.\n",
              "// You may obtain a copy of the License at\n",
              "//\n",
              "//      http://www.apache.org/licenses/LICENSE-2.0\n",
              "//\n",
              "// Unless required by applicable law or agreed to in writing, software\n",
              "// distributed under the License is distributed on an \"AS IS\" BASIS,\n",
              "// WITHOUT WARRANTIES OR CONDITIONS OF ANY KIND, either express or implied.\n",
              "// See the License for the specific language governing permissions and\n",
              "// limitations under the License.\n",
              "\n",
              "/**\n",
              " * @fileoverview Helpers for google.colab Python module.\n",
              " */\n",
              "(function(scope) {\n",
              "function span(text, styleAttributes = {}) {\n",
              "  const element = document.createElement('span');\n",
              "  element.textContent = text;\n",
              "  for (const key of Object.keys(styleAttributes)) {\n",
              "    element.style[key] = styleAttributes[key];\n",
              "  }\n",
              "  return element;\n",
              "}\n",
              "\n",
              "// Max number of bytes which will be uploaded at a time.\n",
              "const MAX_PAYLOAD_SIZE = 100 * 1024;\n",
              "\n",
              "function _uploadFiles(inputId, outputId) {\n",
              "  const steps = uploadFilesStep(inputId, outputId);\n",
              "  const outputElement = document.getElementById(outputId);\n",
              "  // Cache steps on the outputElement to make it available for the next call\n",
              "  // to uploadFilesContinue from Python.\n",
              "  outputElement.steps = steps;\n",
              "\n",
              "  return _uploadFilesContinue(outputId);\n",
              "}\n",
              "\n",
              "// This is roughly an async generator (not supported in the browser yet),\n",
              "// where there are multiple asynchronous steps and the Python side is going\n",
              "// to poll for completion of each step.\n",
              "// This uses a Promise to block the python side on completion of each step,\n",
              "// then passes the result of the previous step as the input to the next step.\n",
              "function _uploadFilesContinue(outputId) {\n",
              "  const outputElement = document.getElementById(outputId);\n",
              "  const steps = outputElement.steps;\n",
              "\n",
              "  const next = steps.next(outputElement.lastPromiseValue);\n",
              "  return Promise.resolve(next.value.promise).then((value) => {\n",
              "    // Cache the last promise value to make it available to the next\n",
              "    // step of the generator.\n",
              "    outputElement.lastPromiseValue = value;\n",
              "    return next.value.response;\n",
              "  });\n",
              "}\n",
              "\n",
              "/**\n",
              " * Generator function which is called between each async step of the upload\n",
              " * process.\n",
              " * @param {string} inputId Element ID of the input file picker element.\n",
              " * @param {string} outputId Element ID of the output display.\n",
              " * @return {!Iterable<!Object>} Iterable of next steps.\n",
              " */\n",
              "function* uploadFilesStep(inputId, outputId) {\n",
              "  const inputElement = document.getElementById(inputId);\n",
              "  inputElement.disabled = false;\n",
              "\n",
              "  const outputElement = document.getElementById(outputId);\n",
              "  outputElement.innerHTML = '';\n",
              "\n",
              "  const pickedPromise = new Promise((resolve) => {\n",
              "    inputElement.addEventListener('change', (e) => {\n",
              "      resolve(e.target.files);\n",
              "    });\n",
              "  });\n",
              "\n",
              "  const cancel = document.createElement('button');\n",
              "  inputElement.parentElement.appendChild(cancel);\n",
              "  cancel.textContent = 'Cancel upload';\n",
              "  const cancelPromise = new Promise((resolve) => {\n",
              "    cancel.onclick = () => {\n",
              "      resolve(null);\n",
              "    };\n",
              "  });\n",
              "\n",
              "  // Wait for the user to pick the files.\n",
              "  const files = yield {\n",
              "    promise: Promise.race([pickedPromise, cancelPromise]),\n",
              "    response: {\n",
              "      action: 'starting',\n",
              "    }\n",
              "  };\n",
              "\n",
              "  cancel.remove();\n",
              "\n",
              "  // Disable the input element since further picks are not allowed.\n",
              "  inputElement.disabled = true;\n",
              "\n",
              "  if (!files) {\n",
              "    return {\n",
              "      response: {\n",
              "        action: 'complete',\n",
              "      }\n",
              "    };\n",
              "  }\n",
              "\n",
              "  for (const file of files) {\n",
              "    const li = document.createElement('li');\n",
              "    li.append(span(file.name, {fontWeight: 'bold'}));\n",
              "    li.append(span(\n",
              "        `(${file.type || 'n/a'}) - ${file.size} bytes, ` +\n",
              "        `last modified: ${\n",
              "            file.lastModifiedDate ? file.lastModifiedDate.toLocaleDateString() :\n",
              "                                    'n/a'} - `));\n",
              "    const percent = span('0% done');\n",
              "    li.appendChild(percent);\n",
              "\n",
              "    outputElement.appendChild(li);\n",
              "\n",
              "    const fileDataPromise = new Promise((resolve) => {\n",
              "      const reader = new FileReader();\n",
              "      reader.onload = (e) => {\n",
              "        resolve(e.target.result);\n",
              "      };\n",
              "      reader.readAsArrayBuffer(file);\n",
              "    });\n",
              "    // Wait for the data to be ready.\n",
              "    let fileData = yield {\n",
              "      promise: fileDataPromise,\n",
              "      response: {\n",
              "        action: 'continue',\n",
              "      }\n",
              "    };\n",
              "\n",
              "    // Use a chunked sending to avoid message size limits. See b/62115660.\n",
              "    let position = 0;\n",
              "    do {\n",
              "      const length = Math.min(fileData.byteLength - position, MAX_PAYLOAD_SIZE);\n",
              "      const chunk = new Uint8Array(fileData, position, length);\n",
              "      position += length;\n",
              "\n",
              "      const base64 = btoa(String.fromCharCode.apply(null, chunk));\n",
              "      yield {\n",
              "        response: {\n",
              "          action: 'append',\n",
              "          file: file.name,\n",
              "          data: base64,\n",
              "        },\n",
              "      };\n",
              "\n",
              "      let percentDone = fileData.byteLength === 0 ?\n",
              "          100 :\n",
              "          Math.round((position / fileData.byteLength) * 100);\n",
              "      percent.textContent = `${percentDone}% done`;\n",
              "\n",
              "    } while (position < fileData.byteLength);\n",
              "  }\n",
              "\n",
              "  // All done.\n",
              "  yield {\n",
              "    response: {\n",
              "      action: 'complete',\n",
              "    }\n",
              "  };\n",
              "}\n",
              "\n",
              "scope.google = scope.google || {};\n",
              "scope.google.colab = scope.google.colab || {};\n",
              "scope.google.colab._files = {\n",
              "  _uploadFiles,\n",
              "  _uploadFilesContinue,\n",
              "};\n",
              "})(self);\n",
              "</script> "
            ],
            "text/plain": [
              "<IPython.core.display.HTML object>"
            ]
          },
          "metadata": {},
          "output_type": "display_data"
        }
      ]
    },
    {
      "cell_type": "code",
      "execution_count": null,
      "metadata": {
        "id": "naDs1JmQbgqP"
      },
      "outputs": [],
      "source": [
        "df = pd.read_excel(\"loan_approval_dataset.xlsx\")"
      ]
    },
    {
      "cell_type": "code",
      "execution_count": null,
      "metadata": {
        "id": "DCEbg4jpbgqP"
      },
      "outputs": [],
      "source": [
        "# Set display options to show all columns\n",
        "pd.set_option('display.max_columns', None)"
      ]
    },
    {
      "cell_type": "markdown",
      "metadata": {
        "id": "QDzk7xA2bgqP"
      },
      "source": [
        "<a id='feature-correlation'></a>\n",
        "<font size=\"+3\" color='#780404'><b> Data Preprocessing</b></font>"
      ]
    },
    {
      "cell_type": "code",
      "execution_count": null,
      "metadata": {
        "id": "zSdmjFZPbgqP"
      },
      "outputs": [],
      "source": [
        "#lets have a look at the dataset again\n",
        "\n",
        "df.head()"
      ]
    },
    {
      "cell_type": "code",
      "source": [
        "df.columns.str.replace(' ',\"\")"
      ],
      "metadata": {
        "id": "2wXwhcML5IcN"
      },
      "execution_count": null,
      "outputs": []
    },
    {
      "cell_type": "code",
      "execution_count": null,
      "metadata": {
        "id": "F4W_vx8xbgqP"
      },
      "outputs": [],
      "source": [
        "df['education'].unique()"
      ]
    },
    {
      "cell_type": "code",
      "execution_count": null,
      "metadata": {
        "id": "JIpICj0WbgqQ"
      },
      "outputs": [],
      "source": [
        "#checking the datatypes of each column\n",
        "df.dtypes"
      ]
    },
    {
      "cell_type": "markdown",
      "metadata": {
        "id": "Vo8uhBtVbgqQ"
      },
      "source": [
        "- all datatypes in our dataset are appropriate, so there is no need to change the datatypes of any columns."
      ]
    },
    {
      "cell_type": "code",
      "execution_count": null,
      "metadata": {
        "id": "mgwz9Z12bgqQ"
      },
      "outputs": [],
      "source": [
        "# Check for null values in each dataset\n",
        "nulls = df.isnull().values.any()\n",
        "\n",
        "# Print the results\n",
        "print(\"Null values in our dataset:\", nulls)"
      ]
    },
    {
      "cell_type": "markdown",
      "metadata": {
        "id": "H3eZT_uHbgqQ"
      },
      "source": [
        "- clearly there are no nulls in our dataset."
      ]
    },
    {
      "cell_type": "markdown",
      "metadata": {
        "id": "G2fh6A6ebgqQ"
      },
      "source": [
        " <a id='feature-correlation'></a>\n",
        "<font size=\"+5\" color='#780404'><b> Exploratory Data Analysis</b></font>  "
      ]
    },
    {
      "cell_type": "code",
      "execution_count": null,
      "metadata": {
        "id": "o_CnuU19bgqQ"
      },
      "outputs": [],
      "source": [
        "df.describe()"
      ]
    },
    {
      "cell_type": "code",
      "execution_count": null,
      "metadata": {
        "id": "C4Z24TN7bgqQ"
      },
      "outputs": [],
      "source": [
        "#checking the description of the object datatype columns\n",
        "df.describe(include= 'O')"
      ]
    },
    {
      "cell_type": "markdown",
      "metadata": {
        "id": "tJnvy4A-bgqQ"
      },
      "source": [
        "- Most clients in our dataset had their loans approved, and most of the clients in our dataset were self employed and most of these clients in this dataset are actually the graduates."
      ]
    },
    {
      "cell_type": "code",
      "execution_count": null,
      "metadata": {
        "id": "ytmswdW3bgqR"
      },
      "outputs": [],
      "source": [
        "df.head()"
      ]
    },
    {
      "cell_type": "code",
      "execution_count": null,
      "metadata": {
        "id": "mnIdgPq1bgqR"
      },
      "outputs": [],
      "source": [
        "df[\"loan_status\"].describe()"
      ]
    },
    {
      "cell_type": "code",
      "execution_count": null,
      "metadata": {
        "id": "aQa2ShSfbgqR"
      },
      "outputs": [],
      "source": [
        "df.shape"
      ]
    },
    {
      "cell_type": "code",
      "execution_count": null,
      "metadata": {
        "id": "3GXNcIj0bgqR"
      },
      "outputs": [],
      "source": [
        "# Plot the proportion of default in dataset\n",
        "plot1 = plt.figure(figsize=(15,5))\n",
        "names = ['rejected','approved']\n",
        "perc =df['loan_status'].replace({1: 'approved', 0:'rejected'}).value_counts()\n",
        "perc.name = ''\n",
        "perc.plot(kind='pie', labels=names, autopct='%1.1f%%')\n",
        "plt.title('Proportion of approvals in the dataset', fontsize = 30)\n",
        "plt.figtext(0.30, 0.1, 'Percentage of clients that are classified as either approved or rejected',\n",
        "            horizontalalignment ='left', fontsize = 15, style='italic')\n",
        "plt.legend(df['loan_status'].replace({0:'rejected', 1:'approved'}).value_counts().index,\n",
        "           bbox_to_anchor=(2.8,0.9), loc=\"right\")\n",
        "\n",
        "plt.show()"
      ]
    },
    {
      "cell_type": "code",
      "execution_count": null,
      "metadata": {
        "id": "kfd0iAYEbgqR"
      },
      "outputs": [],
      "source": [
        "def plot_percentage(df, x):\n",
        "    sns.set(style=\"darkgrid\")\n",
        "\n",
        "    # create the bar chart\n",
        "    ax = sns.barplot(y=df.index, x=\"Percentage\", orient = 'h', data=df)\n",
        "\n",
        "    # set the chart title and axis labels\n",
        "    plt.title(\"Percentage distribution of \" + x)\n",
        "    plt.ylabel(x)\n",
        "    plt.xlabel(\"Percentage\")\n",
        "\n",
        "    # add percentage values on top of each bar\n",
        "    for i in ax.containers:\n",
        "        ax.bar_label(i, label_type='edge', fontsize=8, rotation='horizontal')\n",
        "\n",
        "    # rotate the x-axis labels\n",
        "    #plt.xticks(rotation='horizontal')\n",
        "\n",
        "    # show the chart\n",
        "    plt.show()"
      ]
    },
    {
      "cell_type": "code",
      "execution_count": null,
      "metadata": {
        "id": "lSf50yrsbgqR"
      },
      "outputs": [],
      "source": [
        "\n",
        "def count_percentage(df, column):\n",
        "    counts = df[column].value_counts()\n",
        "    percentages = counts / counts.sum() * 100\n",
        "    _df = pd.concat([counts, percentages], axis=1)\n",
        "    _df.columns = ['Count', 'Percentage']\n",
        "    _df = _df.sort_values(by='Percentage', ascending=False)\n",
        "    _df = _df[_df['Count'] >= 0]\n",
        "    return _df"
      ]
    },
    {
      "cell_type": "code",
      "execution_count": null,
      "metadata": {
        "id": "KqDQtFIcbgqR"
      },
      "outputs": [],
      "source": [
        "df.describe(include = 'O')"
      ]
    },
    {
      "cell_type": "code",
      "execution_count": null,
      "metadata": {
        "id": "vljF380EbgqR"
      },
      "outputs": [],
      "source": [
        "\n",
        "education_df = count_percentage(df, 'education')\n",
        "self_employed_df = count_percentage(df, 'self_employed')\n",
        "loan_status_df = count_percentage(df, 'loan_status')"
      ]
    },
    {
      "cell_type": "code",
      "execution_count": null,
      "metadata": {
        "id": "Az_lPNoObgqR"
      },
      "outputs": [],
      "source": [
        "\n",
        "\n",
        "plot_percentage(education_df, 'education')\n",
        "plot_percentage(self_employed_df, 'self_employment')\n",
        "plot_percentage(loan_status_df,'loan_status')\n"
      ]
    },
    {
      "cell_type": "code",
      "execution_count": null,
      "metadata": {
        "id": "HoAWeUzjbgqS"
      },
      "outputs": [],
      "source": [
        "corr_matrix = df.corr()\n",
        "\n",
        "plt.figure(figsize = (10, 8))\n",
        "sns.heatmap(corr_matrix, annot=True, fmt='.2f', linewidths= 0.5)"
      ]
    },
    {
      "cell_type": "code",
      "execution_count": null,
      "metadata": {
        "id": "S_ahLNsXbgqS"
      },
      "outputs": [],
      "source": [
        "df.columns"
      ]
    },
    {
      "cell_type": "markdown",
      "metadata": {
        "id": "I8kjuy52bgqS"
      },
      "source": [
        "<a id='data-transformation'></a>\n",
        "<font size=\"+3\" color='#780404'><b> Data Transformation</b></font>  \n",
        "<a id='modeling'></a>"
      ]
    },
    {
      "cell_type": "code",
      "execution_count": null,
      "metadata": {
        "id": "I1jKSML3bgqS"
      },
      "outputs": [],
      "source": [
        "\n",
        " #Defining  mapping dictionaries\n",
        "education_mapping = {'Not Graduate': 0, 'Graduate': 1}\n",
        "self_employed_mapping = {'No': 0, 'Yes': 1}\n",
        "loan_status_mapping = {'Rejected': 0, 'Approved': 1}\n",
        "\n",
        "# Applying the mappings to the DataFrame\n",
        "df['education'] = df['education'].map(education_mapping)\n",
        "df['self_employed'] = df['self_employed'].map(self_employed_mapping)\n",
        "df['loan_status'] = df['loan_status'].map(loan_status_mapping)"
      ]
    },
    {
      "cell_type": "code",
      "execution_count": null,
      "metadata": {
        "id": "LxiX9MZRbgqf"
      },
      "outputs": [],
      "source": [
        "df.head()"
      ]
    },
    {
      "cell_type": "code",
      "execution_count": null,
      "metadata": {
        "id": "LAROdIM2bgqf"
      },
      "outputs": [],
      "source": [
        "corr_matrix = df.corr()\n",
        "\n",
        "plt.figure(figsize = (10, 8))\n",
        "sns.heatmap(corr_matrix, annot=True, fmt='.2f', linewidths= 0.5)"
      ]
    },
    {
      "cell_type": "code",
      "source": [
        "from sklearn.model_selection import train_test_split\n"
      ],
      "metadata": {
        "id": "avsjH2eZevcF"
      },
      "execution_count": null,
      "outputs": []
    },
    {
      "cell_type": "markdown",
      "source": [
        "<a id='Deep Learning'></a>\n",
        "<font size=\"+3\" color='#780404'><b> Data Splitting </b></font>  \n",
        "<a id='modeling'></a>\n"
      ],
      "metadata": {
        "id": "zT8_-PmKdwML"
      }
    },
    {
      "cell_type": "code",
      "source": [
        "from sklearn.preprocessing import LabelEncoder, StandardScaler"
      ],
      "metadata": {
        "id": "zBlzVrvai9ZZ"
      },
      "execution_count": null,
      "outputs": []
    },
    {
      "cell_type": "code",
      "source": [
        "# Split the data into features and target\n",
        "X = df.drop(['loan_id', 'loan_status', 'education', 'self_employed'], axis=1)\n",
        "y = df['loan_status']"
      ],
      "metadata": {
        "id": "KcP4YFadd8MO"
      },
      "execution_count": null,
      "outputs": []
    },
    {
      "cell_type": "code",
      "source": [
        "X_train, X_test, y_train, y_test = train_test_split(X, y, test_size=0.2, random_state=42)"
      ],
      "metadata": {
        "id": "_b0GmRlEeWHR"
      },
      "execution_count": null,
      "outputs": []
    },
    {
      "cell_type": "code",
      "source": [
        "# Standardize numerical features\n",
        "scaler = StandardScaler()\n",
        "X_train_scaled = scaler.fit_transform(X_train)\n",
        "X_test_scaled = scaler.transform(X_test)"
      ],
      "metadata": {
        "id": "6MVi7P9uhvet"
      },
      "execution_count": null,
      "outputs": []
    },
    {
      "cell_type": "markdown",
      "metadata": {
        "id": "brsDYop4bgqf"
      },
      "source": [
        "<a id='Deep Learning'></a>\n",
        "<font size=\"+3\" color='#780404'><b> Deep-Learning Approach: Neural Networks </b></font>  \n",
        "<a id='modeling'></a>"
      ]
    },
    {
      "cell_type": "code",
      "execution_count": null,
      "metadata": {
        "id": "P9JRU__ybgqf"
      },
      "outputs": [],
      "source": [
        "import tensorflow as tf"
      ]
    },
    {
      "cell_type": "markdown",
      "source": [
        "<a id='Deep Learning'></a>\n",
        "<font size=\"+2\" color='#780404'><b>Setting up the layers </b></font>  \n",
        "<a id='modeling'></a>"
      ],
      "metadata": {
        "id": "UylU8g-sdFBB"
      }
    },
    {
      "cell_type": "code",
      "source": [
        "model = tf.keras.Sequential([\n",
        "    tf.keras.layers.Dense(64,activation='relu'),\n",
        "    tf.keras.layers.Dense(34, activation='relu'),\n",
        "    tf.keras.layers.Dense(2)\n",
        "])"
      ],
      "metadata": {
        "id": "OXxBVBxmcf6u"
      },
      "execution_count": null,
      "outputs": []
    },
    {
      "cell_type": "code",
      "source": [
        "X_train.shape"
      ],
      "metadata": {
        "id": "pHJXmvz2iylx"
      },
      "execution_count": null,
      "outputs": []
    },
    {
      "cell_type": "markdown",
      "source": [
        "<a id='Deep Learning'></a>\n",
        "<font size=\"+2\" color='#780404'><b> Compiling the model </b></font>  \n",
        "<a id='modeling'></a>"
      ],
      "metadata": {
        "id": "Z7NSqifudTRy"
      }
    },
    {
      "cell_type": "code",
      "source": [
        "model.compile(optimizer='adam',\n",
        "              loss='binary_crossentropy',\n",
        "              metrics=['accuracy'])"
      ],
      "metadata": {
        "id": "E_9TlnTyfnD9"
      },
      "execution_count": null,
      "outputs": []
    },
    {
      "cell_type": "markdown",
      "source": [
        "<a id='Deep Learning'></a>\n",
        "<font size=\"+2\" color='#780404'><b> Training the model </b></font>  \n",
        "<a id='modeling'></a>"
      ],
      "metadata": {
        "id": "LJA_Fxrudcvz"
      }
    },
    {
      "cell_type": "code",
      "source": [
        "model.fit(X_train_scaled, y_train, epochs=20)"
      ],
      "metadata": {
        "id": "uDmRc5vxfsTY"
      },
      "execution_count": null,
      "outputs": []
    },
    {
      "cell_type": "code",
      "source": [
        "X_train.columns"
      ],
      "metadata": {
        "id": "AMeowm3ecW-C"
      },
      "execution_count": null,
      "outputs": []
    },
    {
      "cell_type": "markdown",
      "source": [
        "<a id='Deep Learning'></a>\n",
        "<font size=\"+2\" color='#780404'><b> Model Evaluation </b></font>  \n",
        "<a id='modeling'></a>"
      ],
      "metadata": {
        "id": "E55v0Q6NdjTm"
      }
    },
    {
      "cell_type": "code",
      "source": [
        "test_loss, test_acc = model.evaluate(X_test_scaled,  y_test, verbose=2)\n",
        "\n",
        "print('\\nTest accuracy:', test_acc)"
      ],
      "metadata": {
        "id": "kErkRJY9jeuN"
      },
      "execution_count": null,
      "outputs": []
    },
    {
      "cell_type": "markdown",
      "source": [
        "<a id='Deep Learning'></a>\n",
        "<font size=\"+2\" color='#780404'><b> Model Predictions </b></font>  \n",
        "<a id='modeling'></a>"
      ],
      "metadata": {
        "id": "8IdJQJ0BdrGh"
      }
    },
    {
      "cell_type": "code",
      "source": [
        "\n",
        "\n",
        "probability_model = tf.keras.Sequential([model,\n",
        "                                         tf.keras.layers.Softmax()])"
      ],
      "metadata": {
        "id": "W_khJszWkbYr"
      },
      "execution_count": null,
      "outputs": []
    },
    {
      "cell_type": "code",
      "source": [
        "\n",
        "predictions = probability_model.predict(X_test_scaled)"
      ],
      "metadata": {
        "id": "PGl1Y0vZkj4v"
      },
      "execution_count": null,
      "outputs": []
    },
    {
      "cell_type": "code",
      "source": [
        "predictions[0]"
      ],
      "metadata": {
        "id": "tMBXItlWkvgA"
      },
      "execution_count": null,
      "outputs": []
    },
    {
      "cell_type": "code",
      "source": [
        "from sklearn.metrics import classification_report, confusion_matrix"
      ],
      "metadata": {
        "id": "NAZVd2pHcNFM"
      },
      "execution_count": null,
      "outputs": []
    },
    {
      "cell_type": "code",
      "source": [
        "model.save(\"loan3.h5\")"
      ],
      "metadata": {
        "id": "Hi08Ab9D7gaQ"
      },
      "execution_count": null,
      "outputs": []
    },
    {
      "cell_type": "code",
      "source": [
        "# Load the model\n",
        "loaded_model = tf.keras.models.load_model(\"loan3.h5\")"
      ],
      "metadata": {
        "id": "MgPeETSa8fjW"
      },
      "execution_count": null,
      "outputs": []
    },
    {
      "cell_type": "code",
      "source": [
        "import os\n",
        "print(os.listdir())"
      ],
      "metadata": {
        "id": "F8MD_lCwMwCB"
      },
      "execution_count": null,
      "outputs": []
    },
    {
      "cell_type": "code",
      "source": [
        "#import shutil\n",
        "#shutil.move(\"loan.h5\", \"/content/drive/My Drive/Colab Notebooks/loan.h5\")\n"
      ],
      "metadata": {
        "id": "QrI71YF5M8XS"
      },
      "execution_count": null,
      "outputs": []
    },
    {
      "cell_type": "code",
      "source": [
        "tf.__version__"
      ],
      "metadata": {
        "id": "FMaCyo2JrEXi"
      },
      "execution_count": null,
      "outputs": []
    },
    {
      "cell_type": "code",
      "source": [
        "df.shape"
      ],
      "metadata": {
        "id": "d0DBYfnYxGml"
      },
      "execution_count": null,
      "outputs": []
    },
    {
      "cell_type": "code",
      "source": [
        "model.weight"
      ],
      "metadata": {
        "id": "pBx-K_NnqKxC"
      },
      "execution_count": null,
      "outputs": []
    }
  ],
  "metadata": {
    "kernelspec": {
      "display_name": "Python 3",
      "name": "python3"
    },
    "language_info": {
      "codemirror_mode": {
        "name": "ipython",
        "version": 3
      },
      "file_extension": ".py",
      "mimetype": "text/x-python",
      "name": "python",
      "nbconvert_exporter": "python",
      "pygments_lexer": "ipython3",
      "version": "3.10.9"
    },
    "orig_nbformat": 4,
    "colab": {
      "provenance": []
    }
  },
  "nbformat": 4,
  "nbformat_minor": 0
}